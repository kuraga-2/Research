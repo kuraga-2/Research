{
 "cells": [
  {
   "cell_type": "code",
   "execution_count": 22,
   "metadata": {},
   "outputs": [
    {
     "name": "stdout",
     "output_type": "stream",
     "text": [
      "866105942267 502504267280 260953061197 572311217810 758708471103 624984247130 743037461182 900691562300 509988640599 243204913716\n",
      "{'a': 866105942267, 'b': 502504267280, 'c': 260953061197, 'd': 572311217810, 'e': 758708471103, 'f': 624984247130, 'g': 743037461182, 'h': 900691562300, 'i': 509988640599, 'j': 243204913716}\n",
      "0.000997304916381836\n"
     ]
    }
   ],
   "source": [
    "# Импортируем команду randint для задачи случайного целого значения\n",
    "from random import randint\n",
    "# Импортируем команду time для отсчета времени\n",
    "from time import time as t \n",
    "# Задаем переменную начало отсчета\n",
    "start = t()                    \n",
    " # Даем переменным рандомные значения от 0 до 1_000_000_000\n",
    "a = randint(0, 1_000_000_000_000)\n",
    "b = randint(0, 1_000_000_000_000)\n",
    "c = randint(0, 1_000_000_000_000)\n",
    "d = randint(0, 1_000_000_000_000)\n",
    "e = randint(0, 1_000_000_000_000)\n",
    "f = randint(0, 1_000_000_000_000)\n",
    "g = randint(0, 1_000_000_000_000)\n",
    "h = randint(0, 1_000_000_000_000)\n",
    "i = randint(0, 1_000_000_000_000)\n",
    "j = randint(0, 1_000_000_000_000)\n",
    "print(a,b,c,d,e,f,g,h,i,j)\n",
    " #  Создаем словарь и даем его элементам те же значения, что и у переменных\n",
    "my_dict = {'a': a,\n",
    "           'b': b,\n",
    "           'c': c,\n",
    "           'd': d,\n",
    "           'e': e,\n",
    "           'f': f,\n",
    "           'g': g,\n",
    "           'h': h,\n",
    "           'i': i,\n",
    "           'j': j,\n",
    "           }\n",
    "print(my_dict)\n",
    "# Задаем переменную end для отсечения конца времени\n",
    "end = t()\n",
    "# Находим время задействованное на выполнение программы\n",
    "print(end - start)\n",
    "\n",
    "\n",
    "\n",
    "\n"
   ]
  },
  {
   "cell_type": "code",
   "execution_count": 4,
   "metadata": {},
   "outputs": [
    {
     "data": {
      "text/plain": [
       "474740444"
      ]
     },
     "execution_count": 4,
     "metadata": {},
     "output_type": "execute_result"
    }
   ],
   "source": [
    "# Проверяем работате ли перенос переменных в словарь\n",
    "my_dict['j']"
   ]
  },
  {
   "cell_type": "code",
   "execution_count": 27,
   "metadata": {},
   "outputs": [
    {
     "name": "stdout",
     "output_type": "stream",
     "text": [
      "1727101799.1834524 начало отсчета\n",
      "5982489784584 сумма\n",
      "1727101799.184423 конец отсчета\n",
      "0.0009706020355224609\n"
     ]
    }
   ],
   "source": [
    "# По такому же принципу находим сумму через вызов отдельных переменных\n",
    "start = t()\n",
    "print(start, 'начало отсчета')\n",
    "\n",
    "sum = a + b + c + d + e + f + g + h + i + j\n",
    "print(sum, 'сумма')\n",
    "\n",
    "end = t()\n",
    "print(end, 'конец отсчета')\n",
    "print(end - start)"
   ]
  },
  {
   "cell_type": "code",
   "execution_count": 29,
   "metadata": {},
   "outputs": [
    {
     "name": "stdout",
     "output_type": "stream",
     "text": [
      "1727101803.857737 начало отсчета\n",
      "5982489784584 сумма\n",
      "1727101803.858737 конец отсчета\n",
      "0.0009999275207519531\n"
     ]
    }
   ],
   "source": [
    "# Аналогично находим сумму через вызов переменных из словаря\n",
    "start = t()\n",
    "print(start, 'начало отсчета')\n",
    "\n",
    "sumD = my_dict['a']  + my_dict['b'] + my_dict['c'] + my_dict['d'] + my_dict['e'] + my_dict['f'] + my_dict['g'] + my_dict['h'] + my_dict['i'] + my_dict['j']\n",
    "print(sumD, 'сумма')\n",
    "\n",
    "end = t()\n",
    "print(end, 'конец отсчета')\n",
    "print(end - start)"
   ]
  },
  {
   "cell_type": "code",
   "execution_count": null,
   "metadata": {},
   "outputs": [],
   "source": []
  }
 ],
 "metadata": {
  "kernelspec": {
   "display_name": "Python 3",
   "language": "python",
   "name": "python3"
  },
  "language_info": {
   "codemirror_mode": {
    "name": "ipython",
    "version": 3
   },
   "file_extension": ".py",
   "mimetype": "text/x-python",
   "name": "python",
   "nbconvert_exporter": "python",
   "pygments_lexer": "ipython3",
   "version": "3.12.6"
  }
 },
 "nbformat": 4,
 "nbformat_minor": 2
}
