{
 "cells": [
  {
   "cell_type": "code",
   "execution_count": 4,
   "metadata": {},
   "outputs": [
    {
     "name": "stdout",
     "output_type": "stream",
     "text": [
      "429982496 367536415 582689822 940180370 905385259 19892215 713132904 132651891 259974021 852644834\n",
      "{'a': 429982496, 'b': 367536415, 'c': 582689822, 'd': 940180370, 'e': 905385259, 'f': 19892215, 'g': 713132904, 'h': 132651891, 'i': 259974021, 'j': 852644834}\n",
      "0.0009970664978027344\n"
     ]
    }
   ],
   "source": [
    "from random import randint  \n",
    "from time import time as t\n",
    "\n",
    "start = t()\n",
    "\n",
    "a = randint(0, 1_000_000_000)\n",
    "b = randint(0, 1_000_000_000)\n",
    "c = randint(0, 1_000_000_000)\n",
    "d = randint(0, 1_000_000_000)\n",
    "e = randint(0, 1_000_000_000)\n",
    "f = randint(0, 1_000_000_000)\n",
    "g = randint(0, 1_000_000_000)\n",
    "h = randint(0, 1_000_000_000)\n",
    "i = randint(0, 1_000_000_000)\n",
    "j = randint(0, 1_000_000_000)\n",
    "print(a,b,c,d,e,f,g,h,i,j)\n",
    "\n",
    "my_dict = {'a': a,\n",
    "           'b': b,\n",
    "           'c': c,\n",
    "           'd': d,\n",
    "           'e': e,\n",
    "           'f': f,\n",
    "           'g': g,\n",
    "           'h': h,\n",
    "           'i': i,\n",
    "           'j': j,\n",
    "           }\n",
    "print(my_dict)\n",
    "\n",
    "end = t()\n",
    "print(end - start)\n",
    "\n",
    "\n",
    "\n",
    "\n"
   ]
  },
  {
   "cell_type": "code",
   "execution_count": 5,
   "metadata": {},
   "outputs": [
    {
     "data": {
      "text/plain": [
       "852644834"
      ]
     },
     "execution_count": 5,
     "metadata": {},
     "output_type": "execute_result"
    }
   ],
   "source": [
    "my_dict['j']"
   ]
  },
  {
   "cell_type": "code",
   "execution_count": 6,
   "metadata": {},
   "outputs": [
    {
     "name": "stdout",
     "output_type": "stream",
     "text": [
      "5204070227\n",
      "0.0009996891021728516\n"
     ]
    }
   ],
   "source": [
    "start = t()\n",
    "\n",
    "sum = a + b + c + d + e + f + g + h + i + j\n",
    "print(sum)\n",
    "\n",
    "end = t()\n",
    "print(end - start)"
   ]
  },
  {
   "cell_type": "code",
   "execution_count": 8,
   "metadata": {},
   "outputs": [
    {
     "name": "stdout",
     "output_type": "stream",
     "text": [
      "5204070227\n",
      "0.0009975433349609375\n"
     ]
    }
   ],
   "source": [
    "start = t()\n",
    "\n",
    "sumD = my_dict['a']  + my_dict['b'] + my_dict['c'] + my_dict['d'] + my_dict['e'] + my_dict['f'] + my_dict['g'] + my_dict['h'] + my_dict['i'] + my_dict['j']\n",
    "print(sum)\n",
    "\n",
    "end = t()\n",
    "print(end - start)"
   ]
  }
 ],
 "metadata": {
  "kernelspec": {
   "display_name": "Python 3",
   "language": "python",
   "name": "python3"
  },
  "language_info": {
   "codemirror_mode": {
    "name": "ipython",
    "version": 3
   },
   "file_extension": ".py",
   "mimetype": "text/x-python",
   "name": "python",
   "nbconvert_exporter": "python",
   "pygments_lexer": "ipython3",
   "version": "3.12.6"
  }
 },
 "nbformat": 4,
 "nbformat_minor": 2
}
