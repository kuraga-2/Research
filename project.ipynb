{
 "cells": [
  {
   "cell_type": "code",
   "execution_count": 6,
   "metadata": {},
   "outputs": [
    {
     "name": "stdout",
     "output_type": "stream",
     "text": [
      "887892666781 301311264171 275091745018 721881989636 179244731982 890973555360 248463135737 413456237703 353966907639 35384665815\n",
      "{'a': 887892666781, 'b': 301311264171, 'c': 275091745018, 'd': 721881989636, 'e': 179244731982, 'f': 890973555360, 'g': 248463135737, 'h': 413456237703, 'i': 353966907639, 'j': 35384665815}\n",
      "0.001001119613647461\n"
     ]
    }
   ],
   "source": [
    "# Импортируем команду randint для задачи случайного целого значения\n",
    "from random import randint\n",
    "# Импортируем команду time для отсчета времени\n",
    "from time import time as t \n",
    "# Задаем переменную начало отсчета\n",
    "start = t()                    \n",
    " # Даем переменным рандомные значения от 0 до 1_000_000_000\n",
    "a = randint(0, 1_000_000_000_000)\n",
    "b = randint(0, 1_000_000_000_000)\n",
    "c = randint(0, 1_000_000_000_000)\n",
    "d = randint(0, 1_000_000_000_000)\n",
    "e = randint(0, 1_000_000_000_000)\n",
    "f = randint(0, 1_000_000_000_000)\n",
    "g = randint(0, 1_000_000_000_000)\n",
    "h = randint(0, 1_000_000_000_000)\n",
    "i = randint(0, 1_000_000_000_000)\n",
    "j = randint(0, 1_000_000_000_000)\n",
    "print(a,b,c,d,e,f,g,h,i,j)\n",
    " #  Создаем словарь и даем его элементам те же значения, что и у переменных\n",
    "my_dict = {'a': a,\n",
    "           'b': b,\n",
    "           'c': c,\n",
    "           'd': d,\n",
    "           'e': e,\n",
    "           'f': f,\n",
    "           'g': g,\n",
    "           'h': h,\n",
    "           'i': i,\n",
    "           'j': j,\n",
    "           }\n",
    "print(my_dict)\n",
    "# Задаем переменную end для отсечения конца времени\n",
    "end = t()\n",
    "# Находим время задействованное на выполнение программы\n",
    "print(end - start)\n",
    "\n",
    "\n",
    "\n",
    "\n"
   ]
  },
  {
   "cell_type": "code",
   "execution_count": 7,
   "metadata": {},
   "outputs": [
    {
     "data": {
      "text/plain": [
       "35384665815"
      ]
     },
     "execution_count": 7,
     "metadata": {},
     "output_type": "execute_result"
    }
   ],
   "source": [
    "# Проверяем работате ли перенос переменных в словарь\n",
    "my_dict['j']"
   ]
  },
  {
   "cell_type": "code",
   "execution_count": 16,
   "metadata": {},
   "outputs": [
    {
     "name": "stdout",
     "output_type": "stream",
     "text": [
      "1727422523.362378 начало отсчета\n",
      "4307666899842 сумма\n",
      "1727422523.3633766 конец отсчета\n",
      "0.0009987354278564453\n"
     ]
    }
   ],
   "source": [
    "# По такому же принципу находим сумму через вызов отдельных переменных\n",
    "start = t()\n",
    "print(start, 'начало отсчета')\n",
    "\n",
    "sum = a + b + c + d + e + f + g + h + i + j\n",
    "print(sum, 'сумма')\n",
    "\n",
    "end = t()\n",
    "print(end, 'конец отсчета')\n",
    "print(end - start)"
   ]
  },
  {
   "cell_type": "code",
   "execution_count": 24,
   "metadata": {},
   "outputs": [
    {
     "name": "stdout",
     "output_type": "stream",
     "text": [
      "1727422556.3229318 начало отсчета\n",
      "4307666899842 сумма\n",
      "1727422556.3238935 конец отсчета\n",
      "0.0009617805480957031\n"
     ]
    }
   ],
   "source": [
    "# Аналогично находим сумму через вызов переменных из словаря\n",
    "start = t()\n",
    "print(start, 'начало отсчета')\n",
    "\n",
    "sumD = my_dict['a']  + my_dict['b'] + my_dict['c'] + my_dict['d'] + my_dict['e'] + my_dict['f'] + my_dict['g'] + my_dict['h'] + my_dict['i'] + my_dict['j']\n",
    "print(sumD, 'сумма')\n",
    "\n",
    "end = t()\n",
    "print(end, 'конец отсчета')\n",
    "print(end - start)"
   ]
  },
  {
   "cell_type": "code",
   "execution_count": null,
   "metadata": {},
   "outputs": [],
   "source": []
  }
 ],
 "metadata": {
  "kernelspec": {
   "display_name": "Python 3",
   "language": "python",
   "name": "python3"
  },
  "language_info": {
   "codemirror_mode": {
    "name": "ipython",
    "version": 3
   },
   "file_extension": ".py",
   "mimetype": "text/x-python",
   "name": "python",
   "nbconvert_exporter": "python",
   "pygments_lexer": "ipython3",
   "version": "3.12.6"
  }
 },
 "nbformat": 4,
 "nbformat_minor": 2
}
